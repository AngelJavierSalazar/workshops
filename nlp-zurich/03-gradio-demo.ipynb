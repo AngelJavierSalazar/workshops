{
 "cells": [
  {
   "cell_type": "markdown",
   "id": "87c47386",
   "metadata": {},
   "source": [
    "# Creating a Transformers demo with Gradio"
   ]
  },
  {
   "cell_type": "markdown",
   "id": "2ee3a648-2519-4617-a206-19b8c5cfef3d",
   "metadata": {},
   "source": [
    "## References\n",
    "\n",
    "* https://huggingface.co/blog/gradio-spaces\n",
    "* https://huggingface.co/blog/gradio"
   ]
  },
  {
   "cell_type": "code",
   "execution_count": null,
   "id": "f793dc42",
   "metadata": {},
   "outputs": [],
   "source": [
    "# !pip install transformers gradio sentencepiece"
   ]
  },
  {
   "cell_type": "markdown",
   "id": "87712d83",
   "metadata": {},
   "source": [
    "## Example 1: Using the Transformers pipeline"
   ]
  },
  {
   "cell_type": "code",
   "execution_count": null,
   "id": "e9e56206",
   "metadata": {},
   "outputs": [],
   "source": [
    "import gradio as gr\n",
    "from transformers import pipeline\n",
    "\n",
    "pipe = pipeline(\"text-classification\", model=\"lewtun/xlm-roberta-base-finetuned-marc\")"
   ]
  },
  {
   "cell_type": "code",
   "execution_count": null,
   "id": "e9751057",
   "metadata": {},
   "outputs": [],
   "source": [
    "pipe(\"This tennis racket is amazing!\")"
   ]
  },
  {
   "cell_type": "code",
   "execution_count": null,
   "id": "bc053879-0818-469f-95bd-95338e1c054b",
   "metadata": {},
   "outputs": [],
   "source": [
    "pipe.model.config.label2id"
   ]
  },
  {
   "cell_type": "code",
   "execution_count": null,
   "id": "e064676e",
   "metadata": {},
   "outputs": [],
   "source": [
    "def predict(text):\n",
    "    label2emoji = {\"terrible\": \"💩\", \"poor\": \"😾\", \"ok\": \"🐱\", \"good\": \"😺\", \"great\": \"😻\"}\n",
    "    preds = pipe(text)[0]\n",
    "    return label2emoji[preds[\"label\"]], round(preds[\"score\"], 5)\n",
    "\n",
    "predict(\"I love this book!\")"
   ]
  },
  {
   "cell_type": "code",
   "execution_count": null,
   "id": "9c65091e",
   "metadata": {},
   "outputs": [],
   "source": [
    "gradio_ui = gr.Interface(\n",
    "    fn=predict,\n",
    "    title=\"Review analysis\",\n",
    "    description=\"Enter some review text about an Amazon product and check what the model predicts for it's star rating.\",\n",
    "    inputs=[\n",
    "        gr.inputs.Textbox(lines=5, label=\"Paste some text here\"),\n",
    "    ],\n",
    "    outputs=[\n",
    "        gr.outputs.Textbox(label=\"Label\"),\n",
    "        gr.outputs.Textbox(label=\"Score\"),\n",
    "    ],\n",
    "    examples=[\n",
    "        [\"I love this book!\", \"The Hunger Games is the worst book ever\"],\n",
    "    ],\n",
    ")\n",
    "\n",
    "gradio_ui.launch()"
   ]
  },
  {
   "cell_type": "markdown",
   "id": "4a4afb5f-6f9b-42ab-881e-34870729d028",
   "metadata": {},
   "source": [
    "## Example 2: Using the inference API from the Hugging Face Hub"
   ]
  },
  {
   "cell_type": "code",
   "execution_count": null,
   "id": "d5f756f0",
   "metadata": {},
   "outputs": [],
   "source": [
    "gradio_ui = gr.Interface.load(\n",
    "    name=\"lewtun/xlm-roberta-base-finetuned-marc\",\n",
    "    src=\"huggingface\",\n",
    "    title=\"Review analysis\",\n",
    "    description=\"Enter some text and check if model detects it's star rating.\",\n",
    "    inputs=[\n",
    "        gr.inputs.Textbox(lines=5, label=\"Paste some text here\"),\n",
    "    ],\n",
    "    outputs=[\n",
    "        gr.outputs.Textbox(label=\"Label\"),\n",
    "        gr.outputs.Textbox(label=\"Score\"),\n",
    "    ],\n",
    "    examples=[\n",
    "        [\"I love this book!\"],\n",
    "    ],\n",
    ")\n",
    "\n",
    "gradio_ui.launch()"
   ]
  },
  {
   "cell_type": "markdown",
   "id": "a5193629",
   "metadata": {},
   "source": []
  }
 ],
 "metadata": {
  "interpreter": {
   "hash": "9f835d35ef2d7d572ed1f1be271ae903cca02f9a46b282db81c294a2d4ce247b"
  },
  "kernelspec": {
   "display_name": "Python 3 (ipykernel)",
   "language": "python",
   "name": "python3"
  },
  "language_info": {
   "codemirror_mode": {
    "name": "ipython",
    "version": 3
   },
   "file_extension": ".py",
   "mimetype": "text/x-python",
   "name": "python",
   "nbconvert_exporter": "python",
   "pygments_lexer": "ipython3",
   "version": "3.9.7"
  }
 },
 "nbformat": 4,
 "nbformat_minor": 5
}
