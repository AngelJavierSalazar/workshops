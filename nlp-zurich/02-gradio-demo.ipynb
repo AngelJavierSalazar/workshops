{
 "cells": [
  {
   "cell_type": "markdown",
   "metadata": {},
   "source": [
    "# Creating a Transformers demo with Gradio"
   ]
  },
  {
   "cell_type": "code",
   "execution_count": null,
   "metadata": {},
   "outputs": [],
   "source": [
    "# !pip install transformers gradio sentencepiece"
   ]
  },
  {
   "cell_type": "markdown",
   "metadata": {},
   "source": [
    "## Example 1: Using the Transformers pipeline"
   ]
  },
  {
   "cell_type": "code",
   "execution_count": 1,
   "metadata": {},
   "outputs": [],
   "source": [
    "import gradio as gr\n",
    "from transformers import pipeline\n",
    "\n",
    "pipe = pipeline(\"text-classification\", model=\"lewtun/xlm-roberta-base-finetuned-marc-500-samples\")"
   ]
  },
  {
   "cell_type": "code",
   "execution_count": 2,
   "metadata": {},
   "outputs": [
    {
     "data": {
      "text/plain": [
       "[{'label': 'LABEL_3', 'score': 0.32505497336387634}]"
      ]
     },
     "execution_count": 2,
     "metadata": {},
     "output_type": "execute_result"
    }
   ],
   "source": [
    "pipe(\"The Hunger Games is a great book!\")"
   ]
  },
  {
   "cell_type": "code",
   "execution_count": 3,
   "metadata": {},
   "outputs": [
    {
     "data": {
      "text/plain": [
       "('⭐⭐⭐⭐', 0.30068)"
      ]
     },
     "execution_count": 3,
     "metadata": {},
     "output_type": "execute_result"
    }
   ],
   "source": [
    "def predict(text):\n",
    "  label2star = {\"LABEL_0\": \"⭐\", \"LABEL_1\": \"⭐⭐\", \"LABEL_2\": \"⭐⭐⭐\", \"LABEL_3\": \"⭐⭐⭐⭐\", \"LABEL_4\": \"⭐⭐⭐⭐⭐\"}\n",
    "  preds = pipe(text)[0]\n",
    "  return label2star[preds[\"label\"]], round(preds[\"score\"], 5)\n",
    "\n",
    "predict(\"I love this book!\")"
   ]
  },
  {
   "cell_type": "code",
   "execution_count": 4,
   "metadata": {},
   "outputs": [
    {
     "name": "stdout",
     "output_type": "stream",
     "text": [
      "Running locally at: http://127.0.0.1:7860/\n",
      "To create a public link, set `share=True` in `launch()`.\n",
      "Interface loading below...\n"
     ]
    },
    {
     "data": {
      "text/html": [
       "\n",
       "        <iframe\n",
       "            width=\"900\"\n",
       "            height=\"500\"\n",
       "            src=\"http://127.0.0.1:7860/\"\n",
       "            frameborder=\"0\"\n",
       "            allowfullscreen\n",
       "        ></iframe>\n",
       "        "
      ],
      "text/plain": [
       "<IPython.lib.display.IFrame at 0x7f96095f7b50>"
      ]
     },
     "metadata": {},
     "output_type": "display_data"
    },
    {
     "data": {
      "text/plain": [
       "(<Flask 'gradio.networking'>, 'http://127.0.0.1:7860/', None)"
      ]
     },
     "execution_count": 4,
     "metadata": {},
     "output_type": "execute_result"
    }
   ],
   "source": [
    "gradio_ui = gr.Interface(\n",
    "    fn=predict,\n",
    "    title=\"Review analysis\",\n",
    "    description=\"Enter some review text about an Amazon product and check what the model predicts for it's star rating.\",\n",
    "    inputs=[\n",
    "        gr.inputs.Textbox(lines=5, label=\"Paste some text here\"),\n",
    "    ],\n",
    "    outputs=[\n",
    "        gr.outputs.Textbox(label=\"Label\"),\n",
    "        gr.outputs.Textbox(label=\"Score\"),\n",
    "    ],\n",
    "    examples=[\n",
    "        [\"I love this book!\", \"The Hunger Games is the worst book ever\"],\n",
    "    ],\n",
    ")\n",
    "\n",
    "gradio_ui.launch()"
   ]
  },
  {
   "cell_type": "markdown",
   "id": "4a4afb5f-6f9b-42ab-881e-34870729d028",
   "metadata": {},
   "source": [
    "## Example 2: Using the inference API from the Hugging Face Hub"
   ]
  },
  {
   "cell_type": "code",
   "execution_count": 12,
   "metadata": {},
   "outputs": [
    {
     "name": "stdout",
     "output_type": "stream",
     "text": [
      "Running locally at: http://127.0.0.1:7863/\n",
      "To create a public link, set `share=True` in `launch()`.\n",
      "Interface loading below...\n"
     ]
    },
    {
     "data": {
      "text/html": [
       "\n",
       "        <iframe\n",
       "            width=\"900\"\n",
       "            height=\"500\"\n",
       "            src=\"http://127.0.0.1:7863/\"\n",
       "            frameborder=\"0\"\n",
       "            allowfullscreen\n",
       "        ></iframe>\n",
       "        "
      ],
      "text/plain": [
       "<IPython.lib.display.IFrame at 0x7fca3cd711c0>"
      ]
     },
     "metadata": {},
     "output_type": "display_data"
    },
    {
     "data": {
      "text/plain": [
       "(<Flask 'gradio.networking'>, 'http://127.0.0.1:7863/', None)"
      ]
     },
     "execution_count": 12,
     "metadata": {},
     "output_type": "execute_result"
    }
   ],
   "source": [
    "gradio_ui = gr.Interface.load(\n",
    "    name=\"lewtun/xlm-roberta-base-finetuned-marc-500-samples\",\n",
    "    src=\"huggingface\",\n",
    "    fn=predict,\n",
    "    title=\"Review analysis\",\n",
    "    description=\"Enter some text and check if model detects it's star rating.\",\n",
    "    inputs=[\n",
    "        gr.inputs.Textbox(lines=5, label=\"Paste some text here\"),\n",
    "    ],\n",
    "    outputs=[\n",
    "        gr.outputs.Textbox(label=\"Label\"),\n",
    "        gr.outputs.Textbox(label=\"Score\"),\n",
    "    ],\n",
    "    examples=[\n",
    "        [\"I love this book!\"],\n",
    "    ],\n",
    ")\n",
    "\n",
    "gradio_ui.launch()"
   ]
  },
  {
   "cell_type": "markdown",
   "metadata": {},
   "source": [
    "## Series of models?"
   ]
  },
  {
   "cell_type": "markdown",
   "metadata": {},
   "source": []
  }
 ],
 "metadata": {
  "interpreter": {
   "hash": "9f835d35ef2d7d572ed1f1be271ae903cca02f9a46b282db81c294a2d4ce247b"
  },
  "kernelspec": {
   "display_name": "Python 3.8.10 64-bit ('huggingface': conda)",
   "name": "python3"
  },
  "language_info": {
   "codemirror_mode": {
    "name": "ipython",
    "version": 3
   },
   "file_extension": ".py",
   "mimetype": "text/x-python",
   "name": "python",
   "nbconvert_exporter": "python",
   "pygments_lexer": "ipython3",
   "version": "3.8.10"
  }
 },
 "nbformat": 4,
 "nbformat_minor": 5
}
